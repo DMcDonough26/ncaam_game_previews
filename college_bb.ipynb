{
 "cells": [
  {
   "cell_type": "markdown",
   "metadata": {},
   "source": [
    "# College Basketball Code\n",
    "## Dan McDonough\n",
    "## February 25th, 2021\n",
    "\n",
    "The purpose of this notebook is to compile four factors stats for D1 NCAAM teams ahead of march madness. My goal is to write functionality that gives a very condensed, stylistic game preview to digest ahead of watching the game."
   ]
  },
  {
   "cell_type": "markdown",
   "metadata": {},
   "source": [
    "### 1. Scrape Data"
   ]
  },
  {
   "cell_type": "code",
   "execution_count": 1,
   "metadata": {},
   "outputs": [],
   "source": [
    "import requests\n",
    "import urllib.request\n",
    "import time\n",
    "from bs4 import BeautifulSoup\n",
    "import pandas as pd\n",
    "import random\n",
    "import timeit\n",
    "import numpy as np\n",
    "import statsmodels.api as sm\n",
    "import matplotlib.pyplot as plt\n",
    "plt.style.use('ggplot')\n",
    "import seaborn as sns\n",
    "import scipy as sp"
   ]
  },
  {
   "cell_type": "markdown",
   "metadata": {},
   "source": [
    "I've scraped the data from sports reference, which maintains tables of advanced stats for each team"
   ]
  },
  {
   "cell_type": "code",
   "execution_count": 2,
   "metadata": {},
   "outputs": [],
   "source": [
    "# url = 'https://www.sports-reference.com/cbb/seasons/2022-advanced-school-stats.html'\n",
    "# response = requests.get(url)\n",
    "# soup = BeautifulSoup(response.text, \"html.parser\")\n",
    "\n",
    "# datarows = soup.findAll('tr')\n",
    "\n",
    "# team = []\n",
    "# srs = []\n",
    "# sos = []\n",
    "# pace = []\n",
    "# ortg = []\n",
    "# ftr = []\n",
    "# efg = []\n",
    "# tov = []\n",
    "# orb = []\n",
    "\n",
    "# for i in range(2,len(datarows)):\n",
    "#     if i in [22,23,44,45,66,67,88,89,110,111,132,133,154,155,176,177,198,199,220,221,242,243,264,265,286,287,308,309,330,331,\n",
    "#             352,353,374,375]:\n",
    "#         continue\n",
    "#     team.append(str(datarows[i].findAll('td')[0].findAll('a')).split('>')[1].split('<')[0])\n",
    "#     srs.append(str(datarows[i].findAll('td')[5]).split('>')[1].split('<')[0])\n",
    "#     sos.append(str(datarows[i].findAll('td')[6]).split('>')[1].split('<')[0])\n",
    "#     pace.append(str(datarows[i].findAll('td')[20]).split('>')[1].split('<')[0])\n",
    "#     ortg.append(str(datarows[i].findAll('td')[21]).split('>')[1].split('<')[0])\n",
    "#     ftr.append(str(datarows[i].findAll('td')[22]).split('>')[1].split('<')[0])\n",
    "#     efg.append(str(datarows[i].findAll('td')[29]).split('>')[1].split('<')[0])\n",
    "#     tov.append(str(datarows[i].findAll('td')[30]).split('>')[1].split('<')[0])\n",
    "#     orb.append(str(datarows[i].findAll('td')[31]).split('>')[1].split('<')[0])\n",
    "\n",
    "# stats_df = pd.DataFrame({'Team':team,'SRS':srs,'SOS':sos,'Pace':pace,'OFF':ortg,'FTR':ftr,'EFG':efg,'TOV':tov,\n",
    "#                           'ORB':orb})"
   ]
  },
  {
   "cell_type": "code",
   "execution_count": 3,
   "metadata": {},
   "outputs": [],
   "source": [
    "# stats_df.head(2)"
   ]
  },
  {
   "cell_type": "code",
   "execution_count": 4,
   "metadata": {},
   "outputs": [],
   "source": [
    "# url = 'https://www.sports-reference.com/cbb/seasons/2022-advanced-opponent-stats.html'\n",
    "# response = requests.get(url)\n",
    "# soup = BeautifulSoup(response.text, \"html.parser\")\n",
    "\n",
    "# datarows = soup.findAll('tr')\n",
    "\n",
    "# team = []\n",
    "# srs = []\n",
    "# sos = []\n",
    "# pace = []\n",
    "# drtg = []\n",
    "# oppftr = []\n",
    "# oppefg = []\n",
    "# opptov = []\n",
    "# opporb = []\n",
    "\n",
    "# for i in range(2,len(datarows)):\n",
    "# #     if ((i == 22) | (i == 33)):\n",
    "#     if i in [22,23,44,45,66,67,88,89,110,111,132,133,154,155,176,177,198,199,220,221,242,243,264,265,286,287,308,309,330,331,\n",
    "#             352,353,374,375]:\n",
    "#         continue\n",
    "#     team.append(str(datarows[i].findAll('td')[0].findAll('a')).split('>')[1].split('<')[0])\n",
    "#     srs.append(str(datarows[i].findAll('td')[5]).split('>')[1].split('<')[0])\n",
    "#     sos.append(str(datarows[i].findAll('td')[6]).split('>')[1].split('<')[0])\n",
    "#     pace.append(str(datarows[i].findAll('td')[20]).split('>')[1].split('<')[0])\n",
    "#     drtg.append(str(datarows[i].findAll('td')[21]).split('>')[1].split('<')[0])\n",
    "#     oppftr.append(str(datarows[i].findAll('td')[22]).split('>')[1].split('<')[0])\n",
    "#     oppefg.append(str(datarows[i].findAll('td')[29]).split('>')[1].split('<')[0])\n",
    "#     opptov.append(str(datarows[i].findAll('td')[30]).split('>')[1].split('<')[0])\n",
    "#     opporb.append(str(datarows[i].findAll('td')[31]).split('>')[1].split('<')[0])\n",
    "\n",
    "# opp_stats_df = pd.DataFrame({'Team':team,'SRS':srs,'SOS':sos,'Pace':pace,'DEF':drtg,'Opp FTR':oppftr,'Opp EFG':oppefg,\n",
    "#                          'Opp TOV':opptov,'Opp ORB':opporb})"
   ]
  },
  {
   "cell_type": "code",
   "execution_count": 5,
   "metadata": {},
   "outputs": [],
   "source": [
    "# opp_stats_df.tail(2)"
   ]
  },
  {
   "cell_type": "code",
   "execution_count": 6,
   "metadata": {},
   "outputs": [],
   "source": [
    "# combined_df = stats_df.merge(opp_stats_df[['Team','DEF','Opp FTR','Opp EFG','Opp TOV','Opp ORB']],on='Team')"
   ]
  },
  {
   "cell_type": "markdown",
   "metadata": {},
   "source": [
    "Save file for future use"
   ]
  },
  {
   "cell_type": "code",
   "execution_count": 7,
   "metadata": {},
   "outputs": [],
   "source": [
    "# combined_df.to_csv('college.csv',index=False)"
   ]
  },
  {
   "cell_type": "code",
   "execution_count": 8,
   "metadata": {},
   "outputs": [],
   "source": [
    "combined_df = pd.read_csv('college.csv')\n",
    "\n",
    "combined_df['FTR'] = combined_df['FTR'] * 100\n",
    "combined_df['EFG'] = combined_df['EFG'] * 100\n",
    "combined_df['Opp FTR'] = combined_df['Opp FTR'] * 100\n",
    "combined_df['Opp EFG'] = combined_df['Opp EFG'] * 100"
   ]
  },
  {
   "cell_type": "markdown",
   "metadata": {},
   "source": [
    "### 2. Write Summary Function"
   ]
  },
  {
   "cell_type": "code",
   "execution_count": 24,
   "metadata": {},
   "outputs": [],
   "source": [
    "def game_summary(away,home):\n",
    "    away_df = combined_df[combined_df['Team']==away]\n",
    "    home_df = combined_df[combined_df['Team']==home]\n",
    "    home_df_adj = home_df[['Team', 'SRS', 'SOS', 'Pace','DEF', 'Opp FTR', 'Opp EFG', 'Opp TOV', 'Opp ORB', 'OFF', 'FTR', \n",
    "                           'EFG', 'TOV', 'ORB']].copy()\n",
    "    away_df.columns = ['Team', 'SRS', 'SOS', 'Pace','Away Rtg', 'Away FTR', 'Away EFG', 'Away TOV', 'Away ORB',\n",
    "                       'Home Rtg', 'Home FTR', 'Home EFG', 'Home TOV', 'Home ORB']\n",
    "    home_df_adj.columns = ['Team', 'SRS', 'SOS', 'Pace','Away Rtg', 'Away FTR', 'Away EFG', 'Away TOV', 'Away ORB',\n",
    "                       'Home Rtg', 'Home FTR', 'Home EFG', 'Home TOV', 'Home ORB']\n",
    "    output_df = pd.concat([away_df,home_df_adj],axis=0)\n",
    "    means_df = pd.DataFrame(output_df.mean()).transpose()\n",
    "    output_df = pd.concat([output_df,means_df],sort=False).reset_index(drop=True)\n",
    "    output_df.loc[2,'Team']='Average'\n",
    "    for column in output_df.columns[1:]:\n",
    "        output_df[column] = output_df[column].astype(int)\n",
    "    return output_df"
   ]
  },
  {
   "cell_type": "code",
   "execution_count": 25,
   "metadata": {},
   "outputs": [
    {
     "data": {
      "text/html": [
       "<div>\n",
       "<style scoped>\n",
       "    .dataframe tbody tr th:only-of-type {\n",
       "        vertical-align: middle;\n",
       "    }\n",
       "\n",
       "    .dataframe tbody tr th {\n",
       "        vertical-align: top;\n",
       "    }\n",
       "\n",
       "    .dataframe thead th {\n",
       "        text-align: right;\n",
       "    }\n",
       "</style>\n",
       "<table border=\"1\" class=\"dataframe\">\n",
       "  <thead>\n",
       "    <tr style=\"text-align: right;\">\n",
       "      <th></th>\n",
       "      <th>Team</th>\n",
       "      <th>SRS</th>\n",
       "      <th>SOS</th>\n",
       "      <th>Pace</th>\n",
       "      <th>Away Rtg</th>\n",
       "      <th>Away FTR</th>\n",
       "      <th>Away EFG</th>\n",
       "      <th>Away TOV</th>\n",
       "      <th>Away ORB</th>\n",
       "      <th>Home Rtg</th>\n",
       "      <th>Home FTR</th>\n",
       "      <th>Home EFG</th>\n",
       "      <th>Home TOV</th>\n",
       "      <th>Home ORB</th>\n",
       "    </tr>\n",
       "  </thead>\n",
       "  <tbody>\n",
       "    <tr>\n",
       "      <th>0</th>\n",
       "      <td>Iowa</td>\n",
       "      <td>18</td>\n",
       "      <td>6</td>\n",
       "      <td>70</td>\n",
       "      <td>116</td>\n",
       "      <td>30</td>\n",
       "      <td>52</td>\n",
       "      <td>10</td>\n",
       "      <td>31</td>\n",
       "      <td>99</td>\n",
       "      <td>27</td>\n",
       "      <td>49</td>\n",
       "      <td>17</td>\n",
       "      <td>29</td>\n",
       "    </tr>\n",
       "    <tr>\n",
       "      <th>1</th>\n",
       "      <td>Nebraska</td>\n",
       "      <td>1</td>\n",
       "      <td>8</td>\n",
       "      <td>72</td>\n",
       "      <td>106</td>\n",
       "      <td>28</td>\n",
       "      <td>51</td>\n",
       "      <td>16</td>\n",
       "      <td>31</td>\n",
       "      <td>97</td>\n",
       "      <td>33</td>\n",
       "      <td>49</td>\n",
       "      <td>15</td>\n",
       "      <td>20</td>\n",
       "    </tr>\n",
       "    <tr>\n",
       "      <th>2</th>\n",
       "      <td>Average</td>\n",
       "      <td>10</td>\n",
       "      <td>7</td>\n",
       "      <td>71</td>\n",
       "      <td>111</td>\n",
       "      <td>29</td>\n",
       "      <td>52</td>\n",
       "      <td>13</td>\n",
       "      <td>31</td>\n",
       "      <td>98</td>\n",
       "      <td>30</td>\n",
       "      <td>49</td>\n",
       "      <td>16</td>\n",
       "      <td>25</td>\n",
       "    </tr>\n",
       "  </tbody>\n",
       "</table>\n",
       "</div>"
      ],
      "text/plain": [
       "       Team  SRS  SOS  Pace  Away Rtg  Away FTR  Away EFG  Away TOV  Away ORB  \\\n",
       "0      Iowa   18    6    70       116        30        52        10        31   \n",
       "1  Nebraska    1    8    72       106        28        51        16        31   \n",
       "2   Average   10    7    71       111        29        52        13        31   \n",
       "\n",
       "   Home Rtg  Home FTR  Home EFG  Home TOV  Home ORB  \n",
       "0        99        27        49        17        29  \n",
       "1        97        33        49        15        20  \n",
       "2        98        30        49        16        25  "
      ]
     },
     "execution_count": 25,
     "metadata": {},
     "output_type": "execute_result"
    }
   ],
   "source": [
    "game_summary('Iowa','Nebraska')"
   ]
  },
  {
   "cell_type": "code",
   "execution_count": 26,
   "metadata": {},
   "outputs": [
    {
     "data": {
      "text/html": [
       "<div>\n",
       "<style scoped>\n",
       "    .dataframe tbody tr th:only-of-type {\n",
       "        vertical-align: middle;\n",
       "    }\n",
       "\n",
       "    .dataframe tbody tr th {\n",
       "        vertical-align: top;\n",
       "    }\n",
       "\n",
       "    .dataframe thead th {\n",
       "        text-align: right;\n",
       "    }\n",
       "</style>\n",
       "<table border=\"1\" class=\"dataframe\">\n",
       "  <thead>\n",
       "    <tr style=\"text-align: right;\">\n",
       "      <th></th>\n",
       "      <th>Team</th>\n",
       "      <th>SRS</th>\n",
       "      <th>SOS</th>\n",
       "      <th>Pace</th>\n",
       "      <th>Away Rtg</th>\n",
       "      <th>Away FTR</th>\n",
       "      <th>Away EFG</th>\n",
       "      <th>Away TOV</th>\n",
       "      <th>Away ORB</th>\n",
       "      <th>Home Rtg</th>\n",
       "      <th>Home FTR</th>\n",
       "      <th>Home EFG</th>\n",
       "      <th>Home TOV</th>\n",
       "      <th>Home ORB</th>\n",
       "    </tr>\n",
       "  </thead>\n",
       "  <tbody>\n",
       "    <tr>\n",
       "      <th>0</th>\n",
       "      <td>Texas State</td>\n",
       "      <td>0</td>\n",
       "      <td>-2</td>\n",
       "      <td>66</td>\n",
       "      <td>107</td>\n",
       "      <td>31</td>\n",
       "      <td>52</td>\n",
       "      <td>16</td>\n",
       "      <td>31</td>\n",
       "      <td>94</td>\n",
       "      <td>33</td>\n",
       "      <td>48</td>\n",
       "      <td>19</td>\n",
       "      <td>26</td>\n",
       "    </tr>\n",
       "    <tr>\n",
       "      <th>1</th>\n",
       "      <td>Troy</td>\n",
       "      <td>-2</td>\n",
       "      <td>-3</td>\n",
       "      <td>69</td>\n",
       "      <td>92</td>\n",
       "      <td>32</td>\n",
       "      <td>46</td>\n",
       "      <td>19</td>\n",
       "      <td>26</td>\n",
       "      <td>99</td>\n",
       "      <td>32</td>\n",
       "      <td>49</td>\n",
       "      <td>19</td>\n",
       "      <td>31</td>\n",
       "    </tr>\n",
       "    <tr>\n",
       "      <th>2</th>\n",
       "      <td>Average</td>\n",
       "      <td>0</td>\n",
       "      <td>-3</td>\n",
       "      <td>68</td>\n",
       "      <td>99</td>\n",
       "      <td>31</td>\n",
       "      <td>49</td>\n",
       "      <td>17</td>\n",
       "      <td>28</td>\n",
       "      <td>96</td>\n",
       "      <td>33</td>\n",
       "      <td>48</td>\n",
       "      <td>19</td>\n",
       "      <td>28</td>\n",
       "    </tr>\n",
       "  </tbody>\n",
       "</table>\n",
       "</div>"
      ],
      "text/plain": [
       "          Team  SRS  SOS  Pace  Away Rtg  Away FTR  Away EFG  Away TOV  \\\n",
       "0  Texas State    0   -2    66       107        31        52        16   \n",
       "1         Troy   -2   -3    69        92        32        46        19   \n",
       "2      Average    0   -3    68        99        31        49        17   \n",
       "\n",
       "   Away ORB  Home Rtg  Home FTR  Home EFG  Home TOV  Home ORB  \n",
       "0        31        94        33        48        19        26  \n",
       "1        26        99        32        49        19        31  \n",
       "2        28        96        33        48        19        28  "
      ]
     },
     "execution_count": 26,
     "metadata": {},
     "output_type": "execute_result"
    }
   ],
   "source": [
    "game_summary('Texas State','Troy')"
   ]
  },
  {
   "cell_type": "code",
   "execution_count": null,
   "metadata": {},
   "outputs": [],
   "source": []
  }
 ],
 "metadata": {
  "kernelspec": {
   "display_name": "Python 3",
   "language": "python",
   "name": "python3"
  },
  "language_info": {
   "codemirror_mode": {
    "name": "ipython",
    "version": 3
   },
   "file_extension": ".py",
   "mimetype": "text/x-python",
   "name": "python",
   "nbconvert_exporter": "python",
   "pygments_lexer": "ipython3",
   "version": "3.6.5"
  }
 },
 "nbformat": 4,
 "nbformat_minor": 2
}
