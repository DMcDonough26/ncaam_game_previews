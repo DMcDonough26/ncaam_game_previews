{
 "cells": [
  {
   "cell_type": "markdown",
   "metadata": {},
   "source": [
    "# College Basketball Code\n",
    "## Dan McDonough\n",
    "## February 25th, 2021\n",
    "\n",
    "The purpose of this notebook is to compile four factors stats for D1 NCAAM teams ahead of march madness. My goal is to write functionality that gives a very condensed, stylistic game preview to digest ahead of watching the game."
   ]
  },
  {
   "cell_type": "code",
   "execution_count": 1,
   "metadata": {},
   "outputs": [],
   "source": [
    "import requests\n",
    "import urllib.request\n",
    "import time\n",
    "from bs4 import BeautifulSoup\n",
    "import pandas as pd\n",
    "import random\n",
    "import timeit\n",
    "import numpy as np\n",
    "import statsmodels.api as sm\n",
    "import matplotlib.pyplot as plt\n",
    "plt.style.use('ggplot')\n",
    "import seaborn as sns\n",
    "import scipy as sp"
   ]
  },
  {
   "cell_type": "code",
   "execution_count": 2,
   "metadata": {},
   "outputs": [],
   "source": [
    "combined_df = pd.read_csv('college.csv')\n",
    "\n",
    "combined_df['FTR'] = combined_df['FTR'] * 100\n",
    "combined_df['EFG'] = combined_df['EFG'] * 100\n",
    "combined_df['Opp FTR'] = combined_df['Opp FTR'] * 100\n",
    "combined_df['Opp EFG'] = combined_df['Opp EFG'] * 100"
   ]
  },
  {
   "cell_type": "markdown",
   "metadata": {},
   "source": [
    "### 2. Write Summary Function"
   ]
  },
  {
   "cell_type": "code",
   "execution_count": 3,
   "metadata": {},
   "outputs": [],
   "source": [
    "def game_summary(away,home):\n",
    "    away_df = combined_df[combined_df['Team']==away]\n",
    "    home_df = combined_df[combined_df['Team']==home]\n",
    "    home_df_adj = home_df[['Team', 'SRS', 'SOS', 'Pace','DEF', 'Opp FTR', 'Opp EFG', 'Opp TOV', 'Opp ORB', 'OFF', 'FTR', \n",
    "                           'EFG', 'TOV', 'ORB']].copy()\n",
    "    away_df.columns = ['Team', 'SRS', 'SOS', 'Pace','Away Rtg', 'Away FTR', 'Away EFG', 'Away TOV', 'Away ORB',\n",
    "                       'Home Rtg', 'Home FTR', 'Home EFG', 'Home TOV', 'Home ORB']\n",
    "    home_df_adj.columns = ['Team', 'SRS', 'SOS', 'Pace','Away Rtg', 'Away FTR', 'Away EFG', 'Away TOV', 'Away ORB',\n",
    "                       'Home Rtg', 'Home FTR', 'Home EFG', 'Home TOV', 'Home ORB']\n",
    "    output_df = pd.concat([away_df,home_df_adj],axis=0)\n",
    "    means_df = pd.DataFrame(output_df.mean()).transpose()\n",
    "    output_df = pd.concat([output_df,means_df],sort=False).reset_index(drop=True)\n",
    "    output_df.loc[2,'Team']='Average'\n",
    "    for column in output_df.columns[1:]:\n",
    "        output_df[column] = output_df[column].astype(int)\n",
    "    return output_df[['Team', 'SRS', 'SOS', 'Pace','Away Rtg', 'Away EFG', 'Away TOV', 'Away ORB', 'Away FTR',\n",
    "                       'Home Rtg', 'Home EFG', 'Home TOV', 'Home ORB','Home FTR']]"
   ]
  },
  {
   "cell_type": "markdown",
   "metadata": {},
   "source": [
    "Saturday"
   ]
  },
  {
   "cell_type": "code",
   "execution_count": 5,
   "metadata": {
    "scrolled": true
   },
   "outputs": [
    {
     "data": {
      "text/html": [
       "<div>\n",
       "<style scoped>\n",
       "    .dataframe tbody tr th:only-of-type {\n",
       "        vertical-align: middle;\n",
       "    }\n",
       "\n",
       "    .dataframe tbody tr th {\n",
       "        vertical-align: top;\n",
       "    }\n",
       "\n",
       "    .dataframe thead th {\n",
       "        text-align: right;\n",
       "    }\n",
       "</style>\n",
       "<table border=\"1\" class=\"dataframe\">\n",
       "  <thead>\n",
       "    <tr style=\"text-align: right;\">\n",
       "      <th></th>\n",
       "      <th>Team</th>\n",
       "      <th>SRS</th>\n",
       "      <th>SOS</th>\n",
       "      <th>Pace</th>\n",
       "      <th>Away Rtg</th>\n",
       "      <th>Away EFG</th>\n",
       "      <th>Away TOV</th>\n",
       "      <th>Away ORB</th>\n",
       "      <th>Away FTR</th>\n",
       "      <th>Home Rtg</th>\n",
       "      <th>Home EFG</th>\n",
       "      <th>Home TOV</th>\n",
       "      <th>Home ORB</th>\n",
       "      <th>Home FTR</th>\n",
       "    </tr>\n",
       "  </thead>\n",
       "  <tbody>\n",
       "    <tr>\n",
       "      <th>0</th>\n",
       "      <td>North Carolina</td>\n",
       "      <td>14</td>\n",
       "      <td>7</td>\n",
       "      <td>70</td>\n",
       "      <td>110</td>\n",
       "      <td>52</td>\n",
       "      <td>14</td>\n",
       "      <td>30</td>\n",
       "      <td>29</td>\n",
       "      <td>100</td>\n",
       "      <td>49</td>\n",
       "      <td>12</td>\n",
       "      <td>21</td>\n",
       "      <td>21</td>\n",
       "    </tr>\n",
       "    <tr>\n",
       "      <th>1</th>\n",
       "      <td>Baylor</td>\n",
       "      <td>22</td>\n",
       "      <td>8</td>\n",
       "      <td>68</td>\n",
       "      <td>92</td>\n",
       "      <td>47</td>\n",
       "      <td>20</td>\n",
       "      <td>28</td>\n",
       "      <td>26</td>\n",
       "      <td>112</td>\n",
       "      <td>53</td>\n",
       "      <td>15</td>\n",
       "      <td>36</td>\n",
       "      <td>28</td>\n",
       "    </tr>\n",
       "    <tr>\n",
       "      <th>2</th>\n",
       "      <td>Average</td>\n",
       "      <td>18</td>\n",
       "      <td>8</td>\n",
       "      <td>69</td>\n",
       "      <td>101</td>\n",
       "      <td>49</td>\n",
       "      <td>17</td>\n",
       "      <td>29</td>\n",
       "      <td>28</td>\n",
       "      <td>106</td>\n",
       "      <td>51</td>\n",
       "      <td>14</td>\n",
       "      <td>28</td>\n",
       "      <td>24</td>\n",
       "    </tr>\n",
       "  </tbody>\n",
       "</table>\n",
       "</div>"
      ],
      "text/plain": [
       "             Team  SRS  SOS  Pace  Away Rtg  Away EFG  Away TOV  Away ORB  \\\n",
       "0  North Carolina   14    7    70       110        52        14        30   \n",
       "1          Baylor   22    8    68        92        47        20        28   \n",
       "2         Average   18    8    69       101        49        17        29   \n",
       "\n",
       "   Away FTR  Home Rtg  Home EFG  Home TOV  Home ORB  Home FTR  \n",
       "0        29       100        49        12        21        21  \n",
       "1        26       112        53        15        36        28  \n",
       "2        28       106        51        14        28        24  "
      ]
     },
     "execution_count": 5,
     "metadata": {},
     "output_type": "execute_result"
    }
   ],
   "source": [
    "game_summary('North Carolina','Baylor')"
   ]
  },
  {
   "cell_type": "markdown",
   "metadata": {},
   "source": [
    "Pregame: Lean Baylor -5.5\n",
    "\n",
    "Away: Shooting, Turnovers\n",
    "\n",
    "Home: Rebounding, Free Throws"
   ]
  },
  {
   "cell_type": "code",
   "execution_count": 6,
   "metadata": {},
   "outputs": [
    {
     "data": {
      "text/plain": [
       "142.82999999999998"
      ]
     },
     "execution_count": 6,
     "metadata": {},
     "output_type": "execute_result"
    }
   ],
   "source": [
    "69*1.01+69*1.06"
   ]
  },
  {
   "cell_type": "markdown",
   "metadata": {},
   "source": [
    "Under 149"
   ]
  },
  {
   "cell_type": "code",
   "execution_count": 7,
   "metadata": {
    "scrolled": true
   },
   "outputs": [
    {
     "data": {
      "text/html": [
       "<div>\n",
       "<style scoped>\n",
       "    .dataframe tbody tr th:only-of-type {\n",
       "        vertical-align: middle;\n",
       "    }\n",
       "\n",
       "    .dataframe tbody tr th {\n",
       "        vertical-align: top;\n",
       "    }\n",
       "\n",
       "    .dataframe thead th {\n",
       "        text-align: right;\n",
       "    }\n",
       "</style>\n",
       "<table border=\"1\" class=\"dataframe\">\n",
       "  <thead>\n",
       "    <tr style=\"text-align: right;\">\n",
       "      <th></th>\n",
       "      <th>Team</th>\n",
       "      <th>SRS</th>\n",
       "      <th>SOS</th>\n",
       "      <th>Pace</th>\n",
       "      <th>Away Rtg</th>\n",
       "      <th>Away EFG</th>\n",
       "      <th>Away TOV</th>\n",
       "      <th>Away ORB</th>\n",
       "      <th>Away FTR</th>\n",
       "      <th>Home Rtg</th>\n",
       "      <th>Home EFG</th>\n",
       "      <th>Home TOV</th>\n",
       "      <th>Home ORB</th>\n",
       "      <th>Home FTR</th>\n",
       "    </tr>\n",
       "  </thead>\n",
       "  <tbody>\n",
       "    <tr>\n",
       "      <th>0</th>\n",
       "      <td>Creighton</td>\n",
       "      <td>11</td>\n",
       "      <td>8</td>\n",
       "      <td>68</td>\n",
       "      <td>100</td>\n",
       "      <td>50</td>\n",
       "      <td>18</td>\n",
       "      <td>28</td>\n",
       "      <td>26</td>\n",
       "      <td>95</td>\n",
       "      <td>44</td>\n",
       "      <td>13</td>\n",
       "      <td>28</td>\n",
       "      <td>20</td>\n",
       "    </tr>\n",
       "    <tr>\n",
       "      <th>1</th>\n",
       "      <td>Kansas</td>\n",
       "      <td>21</td>\n",
       "      <td>10</td>\n",
       "      <td>69</td>\n",
       "      <td>96</td>\n",
       "      <td>46</td>\n",
       "      <td>16</td>\n",
       "      <td>28</td>\n",
       "      <td>27</td>\n",
       "      <td>111</td>\n",
       "      <td>54</td>\n",
       "      <td>15</td>\n",
       "      <td>33</td>\n",
       "      <td>32</td>\n",
       "    </tr>\n",
       "    <tr>\n",
       "      <th>2</th>\n",
       "      <td>Average</td>\n",
       "      <td>16</td>\n",
       "      <td>9</td>\n",
       "      <td>68</td>\n",
       "      <td>98</td>\n",
       "      <td>48</td>\n",
       "      <td>17</td>\n",
       "      <td>28</td>\n",
       "      <td>27</td>\n",
       "      <td>103</td>\n",
       "      <td>49</td>\n",
       "      <td>14</td>\n",
       "      <td>30</td>\n",
       "      <td>26</td>\n",
       "    </tr>\n",
       "  </tbody>\n",
       "</table>\n",
       "</div>"
      ],
      "text/plain": [
       "        Team  SRS  SOS  Pace  Away Rtg  Away EFG  Away TOV  Away ORB  \\\n",
       "0  Creighton   11    8    68       100        50        18        28   \n",
       "1     Kansas   21   10    69        96        46        16        28   \n",
       "2    Average   16    9    68        98        48        17        28   \n",
       "\n",
       "   Away FTR  Home Rtg  Home EFG  Home TOV  Home ORB  Home FTR  \n",
       "0        26        95        44        13        28        20  \n",
       "1        27       111        54        15        33        32  \n",
       "2        27       103        49        14        30        26  "
      ]
     },
     "execution_count": 7,
     "metadata": {},
     "output_type": "execute_result"
    }
   ],
   "source": [
    "game_summary('Creighton','Kansas')"
   ]
  },
  {
   "cell_type": "markdown",
   "metadata": {},
   "source": [
    "Pregame: Pass at -11.5\n",
    "\n",
    "Away: Consider team total\n",
    "\n",
    "Home: Shooting, Rebounding, Free Throws"
   ]
  },
  {
   "cell_type": "code",
   "execution_count": 8,
   "metadata": {},
   "outputs": [
    {
     "data": {
      "text/plain": [
       "136.68"
      ]
     },
     "execution_count": 8,
     "metadata": {},
     "output_type": "execute_result"
    }
   ],
   "source": [
    "68*0.98+68*1.03"
   ]
  },
  {
   "cell_type": "markdown",
   "metadata": {},
   "source": [
    "Under 139.5"
   ]
  },
  {
   "cell_type": "code",
   "execution_count": 9,
   "metadata": {},
   "outputs": [
    {
     "data": {
      "text/plain": [
       "66.64"
      ]
     },
     "execution_count": 9,
     "metadata": {},
     "output_type": "execute_result"
    }
   ],
   "source": [
    "68*0.98"
   ]
  },
  {
   "cell_type": "markdown",
   "metadata": {},
   "source": [
    "Creighton over 63.5"
   ]
  },
  {
   "cell_type": "code",
   "execution_count": 10,
   "metadata": {
    "scrolled": false
   },
   "outputs": [
    {
     "data": {
      "text/html": [
       "<div>\n",
       "<style scoped>\n",
       "    .dataframe tbody tr th:only-of-type {\n",
       "        vertical-align: middle;\n",
       "    }\n",
       "\n",
       "    .dataframe tbody tr th {\n",
       "        vertical-align: top;\n",
       "    }\n",
       "\n",
       "    .dataframe thead th {\n",
       "        text-align: right;\n",
       "    }\n",
       "</style>\n",
       "<table border=\"1\" class=\"dataframe\">\n",
       "  <thead>\n",
       "    <tr style=\"text-align: right;\">\n",
       "      <th></th>\n",
       "      <th>Team</th>\n",
       "      <th>SRS</th>\n",
       "      <th>SOS</th>\n",
       "      <th>Pace</th>\n",
       "      <th>Away Rtg</th>\n",
       "      <th>Away EFG</th>\n",
       "      <th>Away TOV</th>\n",
       "      <th>Away ORB</th>\n",
       "      <th>Away FTR</th>\n",
       "      <th>Home Rtg</th>\n",
       "      <th>Home EFG</th>\n",
       "      <th>Home TOV</th>\n",
       "      <th>Home ORB</th>\n",
       "      <th>Home FTR</th>\n",
       "    </tr>\n",
       "  </thead>\n",
       "  <tbody>\n",
       "    <tr>\n",
       "      <th>0</th>\n",
       "      <td>Tennessee</td>\n",
       "      <td>21</td>\n",
       "      <td>9</td>\n",
       "      <td>68</td>\n",
       "      <td>106</td>\n",
       "      <td>50</td>\n",
       "      <td>15</td>\n",
       "      <td>32</td>\n",
       "      <td>29</td>\n",
       "      <td>90</td>\n",
       "      <td>46</td>\n",
       "      <td>20</td>\n",
       "      <td>27</td>\n",
       "      <td>31</td>\n",
       "    </tr>\n",
       "    <tr>\n",
       "      <th>1</th>\n",
       "      <td>Michigan</td>\n",
       "      <td>14</td>\n",
       "      <td>10</td>\n",
       "      <td>67</td>\n",
       "      <td>103</td>\n",
       "      <td>50</td>\n",
       "      <td>13</td>\n",
       "      <td>23</td>\n",
       "      <td>26</td>\n",
       "      <td>108</td>\n",
       "      <td>52</td>\n",
       "      <td>15</td>\n",
       "      <td>31</td>\n",
       "      <td>29</td>\n",
       "    </tr>\n",
       "    <tr>\n",
       "      <th>2</th>\n",
       "      <td>Average</td>\n",
       "      <td>17</td>\n",
       "      <td>10</td>\n",
       "      <td>68</td>\n",
       "      <td>104</td>\n",
       "      <td>50</td>\n",
       "      <td>14</td>\n",
       "      <td>28</td>\n",
       "      <td>27</td>\n",
       "      <td>99</td>\n",
       "      <td>49</td>\n",
       "      <td>17</td>\n",
       "      <td>29</td>\n",
       "      <td>30</td>\n",
       "    </tr>\n",
       "  </tbody>\n",
       "</table>\n",
       "</div>"
      ],
      "text/plain": [
       "        Team  SRS  SOS  Pace  Away Rtg  Away EFG  Away TOV  Away ORB  \\\n",
       "0  Tennessee   21    9    68       106        50        15        32   \n",
       "1   Michigan   14   10    67       103        50        13        23   \n",
       "2    Average   17   10    68       104        50        14        28   \n",
       "\n",
       "   Away FTR  Home Rtg  Home EFG  Home TOV  Home ORB  Home FTR  \n",
       "0        29        90        46        20        27        31  \n",
       "1        26       108        52        15        31        29  \n",
       "2        27        99        49        17        29        30  "
      ]
     },
     "execution_count": 10,
     "metadata": {},
     "output_type": "execute_result"
    }
   ],
   "source": [
    "game_summary('Tennessee','Michigan')"
   ]
  },
  {
   "cell_type": "markdown",
   "metadata": {},
   "source": [
    "Pregame: Pass at -6\n",
    "\n",
    "Away: Rebounding\n",
    "\n",
    "Home: Shooting, Turnovers"
   ]
  },
  {
   "cell_type": "code",
   "execution_count": 11,
   "metadata": {},
   "outputs": [
    {
     "data": {
      "text/plain": [
       "138.04"
      ]
     },
     "execution_count": 11,
     "metadata": {},
     "output_type": "execute_result"
    }
   ],
   "source": [
    "68*1.04+68*0.99"
   ]
  },
  {
   "cell_type": "code",
   "execution_count": 12,
   "metadata": {
    "scrolled": true
   },
   "outputs": [
    {
     "data": {
      "text/html": [
       "<div>\n",
       "<style scoped>\n",
       "    .dataframe tbody tr th:only-of-type {\n",
       "        vertical-align: middle;\n",
       "    }\n",
       "\n",
       "    .dataframe tbody tr th {\n",
       "        vertical-align: top;\n",
       "    }\n",
       "\n",
       "    .dataframe thead th {\n",
       "        text-align: right;\n",
       "    }\n",
       "</style>\n",
       "<table border=\"1\" class=\"dataframe\">\n",
       "  <thead>\n",
       "    <tr style=\"text-align: right;\">\n",
       "      <th></th>\n",
       "      <th>Team</th>\n",
       "      <th>SRS</th>\n",
       "      <th>SOS</th>\n",
       "      <th>Pace</th>\n",
       "      <th>Away Rtg</th>\n",
       "      <th>Away EFG</th>\n",
       "      <th>Away TOV</th>\n",
       "      <th>Away ORB</th>\n",
       "      <th>Away FTR</th>\n",
       "      <th>Home Rtg</th>\n",
       "      <th>Home EFG</th>\n",
       "      <th>Home TOV</th>\n",
       "      <th>Home ORB</th>\n",
       "      <th>Home FTR</th>\n",
       "    </tr>\n",
       "  </thead>\n",
       "  <tbody>\n",
       "    <tr>\n",
       "      <th>0</th>\n",
       "      <td>Richmond</td>\n",
       "      <td>7</td>\n",
       "      <td>4</td>\n",
       "      <td>67</td>\n",
       "      <td>105</td>\n",
       "      <td>51</td>\n",
       "      <td>13</td>\n",
       "      <td>22</td>\n",
       "      <td>30</td>\n",
       "      <td>100</td>\n",
       "      <td>50</td>\n",
       "      <td>16</td>\n",
       "      <td>27</td>\n",
       "      <td>23</td>\n",
       "    </tr>\n",
       "    <tr>\n",
       "      <th>1</th>\n",
       "      <td>Providence</td>\n",
       "      <td>12</td>\n",
       "      <td>7</td>\n",
       "      <td>66</td>\n",
       "      <td>99</td>\n",
       "      <td>46</td>\n",
       "      <td>13</td>\n",
       "      <td>27</td>\n",
       "      <td>25</td>\n",
       "      <td>106</td>\n",
       "      <td>50</td>\n",
       "      <td>14</td>\n",
       "      <td>30</td>\n",
       "      <td>37</td>\n",
       "    </tr>\n",
       "    <tr>\n",
       "      <th>2</th>\n",
       "      <td>Average</td>\n",
       "      <td>10</td>\n",
       "      <td>5</td>\n",
       "      <td>66</td>\n",
       "      <td>102</td>\n",
       "      <td>49</td>\n",
       "      <td>13</td>\n",
       "      <td>25</td>\n",
       "      <td>28</td>\n",
       "      <td>103</td>\n",
       "      <td>50</td>\n",
       "      <td>15</td>\n",
       "      <td>28</td>\n",
       "      <td>30</td>\n",
       "    </tr>\n",
       "  </tbody>\n",
       "</table>\n",
       "</div>"
      ],
      "text/plain": [
       "         Team  SRS  SOS  Pace  Away Rtg  Away EFG  Away TOV  Away ORB  \\\n",
       "0    Richmond    7    4    67       105        51        13        22   \n",
       "1  Providence   12    7    66        99        46        13        27   \n",
       "2     Average   10    5    66       102        49        13        25   \n",
       "\n",
       "   Away FTR  Home Rtg  Home EFG  Home TOV  Home ORB  Home FTR  \n",
       "0        30       100        50        16        27        23  \n",
       "1        25       106        50        14        30        37  \n",
       "2        28       103        50        15        28        30  "
      ]
     },
     "execution_count": 12,
     "metadata": {},
     "output_type": "execute_result"
    }
   ],
   "source": [
    "game_summary('Richmond','Providence')"
   ]
  },
  {
   "cell_type": "markdown",
   "metadata": {},
   "source": [
    "Pregame: Lean Providence at -3\n",
    "\n",
    "Away: Shooting, Free Throws\n",
    "\n",
    "Home: Free Throws"
   ]
  },
  {
   "cell_type": "code",
   "execution_count": 13,
   "metadata": {},
   "outputs": [
    {
     "data": {
      "text/plain": [
       "135.3"
      ]
     },
     "execution_count": 13,
     "metadata": {},
     "output_type": "execute_result"
    }
   ],
   "source": [
    "66*1.02+66*1.03"
   ]
  },
  {
   "cell_type": "code",
   "execution_count": 14,
   "metadata": {
    "scrolled": false
   },
   "outputs": [
    {
     "data": {
      "text/html": [
       "<div>\n",
       "<style scoped>\n",
       "    .dataframe tbody tr th:only-of-type {\n",
       "        vertical-align: middle;\n",
       "    }\n",
       "\n",
       "    .dataframe tbody tr th {\n",
       "        vertical-align: top;\n",
       "    }\n",
       "\n",
       "    .dataframe thead th {\n",
       "        text-align: right;\n",
       "    }\n",
       "</style>\n",
       "<table border=\"1\" class=\"dataframe\">\n",
       "  <thead>\n",
       "    <tr style=\"text-align: right;\">\n",
       "      <th></th>\n",
       "      <th>Team</th>\n",
       "      <th>SRS</th>\n",
       "      <th>SOS</th>\n",
       "      <th>Pace</th>\n",
       "      <th>Away Rtg</th>\n",
       "      <th>Away EFG</th>\n",
       "      <th>Away TOV</th>\n",
       "      <th>Away ORB</th>\n",
       "      <th>Away FTR</th>\n",
       "      <th>Home Rtg</th>\n",
       "      <th>Home EFG</th>\n",
       "      <th>Home TOV</th>\n",
       "      <th>Home ORB</th>\n",
       "      <th>Home FTR</th>\n",
       "    </tr>\n",
       "  </thead>\n",
       "  <tbody>\n",
       "    <tr>\n",
       "      <th>0</th>\n",
       "      <td>UCLA</td>\n",
       "      <td>19</td>\n",
       "      <td>8</td>\n",
       "      <td>66</td>\n",
       "      <td>111</td>\n",
       "      <td>50</td>\n",
       "      <td>11</td>\n",
       "      <td>31</td>\n",
       "      <td>29</td>\n",
       "      <td>94</td>\n",
       "      <td>47</td>\n",
       "      <td>17</td>\n",
       "      <td>24</td>\n",
       "      <td>28</td>\n",
       "    </tr>\n",
       "    <tr>\n",
       "      <th>1</th>\n",
       "      <td>Saint Mary's (CA)</td>\n",
       "      <td>15</td>\n",
       "      <td>6</td>\n",
       "      <td>65</td>\n",
       "      <td>91</td>\n",
       "      <td>47</td>\n",
       "      <td>17</td>\n",
       "      <td>22</td>\n",
       "      <td>24</td>\n",
       "      <td>106</td>\n",
       "      <td>52</td>\n",
       "      <td>15</td>\n",
       "      <td>27</td>\n",
       "      <td>24</td>\n",
       "    </tr>\n",
       "    <tr>\n",
       "      <th>2</th>\n",
       "      <td>Average</td>\n",
       "      <td>17</td>\n",
       "      <td>7</td>\n",
       "      <td>66</td>\n",
       "      <td>101</td>\n",
       "      <td>48</td>\n",
       "      <td>14</td>\n",
       "      <td>27</td>\n",
       "      <td>27</td>\n",
       "      <td>100</td>\n",
       "      <td>50</td>\n",
       "      <td>16</td>\n",
       "      <td>26</td>\n",
       "      <td>26</td>\n",
       "    </tr>\n",
       "  </tbody>\n",
       "</table>\n",
       "</div>"
      ],
      "text/plain": [
       "                Team  SRS  SOS  Pace  Away Rtg  Away EFG  Away TOV  Away ORB  \\\n",
       "0               UCLA   19    8    66       111        50        11        31   \n",
       "1  Saint Mary's (CA)   15    6    65        91        47        17        22   \n",
       "2            Average   17    7    66       101        48        14        27   \n",
       "\n",
       "   Away FTR  Home Rtg  Home EFG  Home TOV  Home ORB  Home FTR  \n",
       "0        29        94        47        17        24        28  \n",
       "1        24       106        52        15        27        24  \n",
       "2        27       100        50        16        26        26  "
      ]
     },
     "execution_count": 14,
     "metadata": {},
     "output_type": "execute_result"
    }
   ],
   "source": [
    "game_summary(\"UCLA\",\"Saint Mary's (CA)\")"
   ]
  },
  {
   "cell_type": "markdown",
   "metadata": {},
   "source": [
    "Pregame: Pass at +2.5\n",
    "\n",
    "Away: Turnovers, Rebounding, Free Throws\n",
    "\n",
    "Home: Shooting"
   ]
  },
  {
   "cell_type": "code",
   "execution_count": 15,
   "metadata": {},
   "outputs": [
    {
     "data": {
      "text/plain": [
       "132.66"
      ]
     },
     "execution_count": 15,
     "metadata": {},
     "output_type": "execute_result"
    }
   ],
   "source": [
    "66*1.01+66*1.00"
   ]
  },
  {
   "cell_type": "markdown",
   "metadata": {},
   "source": [
    "Over 126"
   ]
  },
  {
   "cell_type": "code",
   "execution_count": 16,
   "metadata": {
    "scrolled": true
   },
   "outputs": [
    {
     "data": {
      "text/html": [
       "<div>\n",
       "<style scoped>\n",
       "    .dataframe tbody tr th:only-of-type {\n",
       "        vertical-align: middle;\n",
       "    }\n",
       "\n",
       "    .dataframe tbody tr th {\n",
       "        vertical-align: top;\n",
       "    }\n",
       "\n",
       "    .dataframe thead th {\n",
       "        text-align: right;\n",
       "    }\n",
       "</style>\n",
       "<table border=\"1\" class=\"dataframe\">\n",
       "  <thead>\n",
       "    <tr style=\"text-align: right;\">\n",
       "      <th></th>\n",
       "      <th>Team</th>\n",
       "      <th>SRS</th>\n",
       "      <th>SOS</th>\n",
       "      <th>Pace</th>\n",
       "      <th>Away Rtg</th>\n",
       "      <th>Away EFG</th>\n",
       "      <th>Away TOV</th>\n",
       "      <th>Away ORB</th>\n",
       "      <th>Away FTR</th>\n",
       "      <th>Home Rtg</th>\n",
       "      <th>Home EFG</th>\n",
       "      <th>Home TOV</th>\n",
       "      <th>Home ORB</th>\n",
       "      <th>Home FTR</th>\n",
       "    </tr>\n",
       "  </thead>\n",
       "  <tbody>\n",
       "    <tr>\n",
       "      <th>0</th>\n",
       "      <td>Murray State</td>\n",
       "      <td>10</td>\n",
       "      <td>-3</td>\n",
       "      <td>68</td>\n",
       "      <td>116</td>\n",
       "      <td>54</td>\n",
       "      <td>14</td>\n",
       "      <td>35</td>\n",
       "      <td>32</td>\n",
       "      <td>91</td>\n",
       "      <td>47</td>\n",
       "      <td>18</td>\n",
       "      <td>24</td>\n",
       "      <td>25</td>\n",
       "    </tr>\n",
       "    <tr>\n",
       "      <th>1</th>\n",
       "      <td>Saint Peter's</td>\n",
       "      <td>1</td>\n",
       "      <td>-2</td>\n",
       "      <td>66</td>\n",
       "      <td>92</td>\n",
       "      <td>43</td>\n",
       "      <td>18</td>\n",
       "      <td>28</td>\n",
       "      <td>41</td>\n",
       "      <td>100</td>\n",
       "      <td>48</td>\n",
       "      <td>17</td>\n",
       "      <td>31</td>\n",
       "      <td>37</td>\n",
       "    </tr>\n",
       "    <tr>\n",
       "      <th>2</th>\n",
       "      <td>Average</td>\n",
       "      <td>6</td>\n",
       "      <td>-2</td>\n",
       "      <td>67</td>\n",
       "      <td>104</td>\n",
       "      <td>49</td>\n",
       "      <td>16</td>\n",
       "      <td>31</td>\n",
       "      <td>36</td>\n",
       "      <td>95</td>\n",
       "      <td>48</td>\n",
       "      <td>17</td>\n",
       "      <td>28</td>\n",
       "      <td>31</td>\n",
       "    </tr>\n",
       "  </tbody>\n",
       "</table>\n",
       "</div>"
      ],
      "text/plain": [
       "            Team  SRS  SOS  Pace  Away Rtg  Away EFG  Away TOV  Away ORB  \\\n",
       "0   Murray State   10   -3    68       116        54        14        35   \n",
       "1  Saint Peter's    1   -2    66        92        43        18        28   \n",
       "2        Average    6   -2    67       104        49        16        31   \n",
       "\n",
       "   Away FTR  Home Rtg  Home EFG  Home TOV  Home ORB  Home FTR  \n",
       "0        32        91        47        18        24        25  \n",
       "1        41       100        48        17        31        37  \n",
       "2        36        95        48        17        28        31  "
      ]
     },
     "execution_count": 16,
     "metadata": {},
     "output_type": "execute_result"
    }
   ],
   "source": [
    "game_summary(\"Murray State\",\"Saint Peter's\")"
   ]
  },
  {
   "cell_type": "markdown",
   "metadata": {},
   "source": [
    "Pregame: Pass at +8.5\n",
    "\n",
    "Away: Shooting, Rebounding, Free Throws\n",
    "\n",
    "Home: Rebounding, Free Throws"
   ]
  },
  {
   "cell_type": "code",
   "execution_count": 17,
   "metadata": {},
   "outputs": [
    {
     "data": {
      "text/plain": [
       "133.33"
      ]
     },
     "execution_count": 17,
     "metadata": {},
     "output_type": "execute_result"
    }
   ],
   "source": [
    "67*1.04+67*0.95"
   ]
  },
  {
   "cell_type": "markdown",
   "metadata": {},
   "source": [
    "Over 130"
   ]
  },
  {
   "cell_type": "code",
   "execution_count": 19,
   "metadata": {
    "scrolled": false
   },
   "outputs": [
    {
     "data": {
      "text/html": [
       "<div>\n",
       "<style scoped>\n",
       "    .dataframe tbody tr th:only-of-type {\n",
       "        vertical-align: middle;\n",
       "    }\n",
       "\n",
       "    .dataframe tbody tr th {\n",
       "        vertical-align: top;\n",
       "    }\n",
       "\n",
       "    .dataframe thead th {\n",
       "        text-align: right;\n",
       "    }\n",
       "</style>\n",
       "<table border=\"1\" class=\"dataframe\">\n",
       "  <thead>\n",
       "    <tr style=\"text-align: right;\">\n",
       "      <th></th>\n",
       "      <th>Team</th>\n",
       "      <th>SRS</th>\n",
       "      <th>SOS</th>\n",
       "      <th>Pace</th>\n",
       "      <th>Away Rtg</th>\n",
       "      <th>Away EFG</th>\n",
       "      <th>Away TOV</th>\n",
       "      <th>Away ORB</th>\n",
       "      <th>Away FTR</th>\n",
       "      <th>Home Rtg</th>\n",
       "      <th>Home EFG</th>\n",
       "      <th>Home TOV</th>\n",
       "      <th>Home ORB</th>\n",
       "      <th>Home FTR</th>\n",
       "    </tr>\n",
       "  </thead>\n",
       "  <tbody>\n",
       "    <tr>\n",
       "      <th>0</th>\n",
       "      <td>Arkansas</td>\n",
       "      <td>16</td>\n",
       "      <td>8</td>\n",
       "      <td>71</td>\n",
       "      <td>106</td>\n",
       "      <td>49</td>\n",
       "      <td>14</td>\n",
       "      <td>30</td>\n",
       "      <td>38</td>\n",
       "      <td>94</td>\n",
       "      <td>47</td>\n",
       "      <td>18</td>\n",
       "      <td>25</td>\n",
       "      <td>32</td>\n",
       "    </tr>\n",
       "    <tr>\n",
       "      <th>1</th>\n",
       "      <td>New Mexico State</td>\n",
       "      <td>7</td>\n",
       "      <td>1</td>\n",
       "      <td>68</td>\n",
       "      <td>94</td>\n",
       "      <td>45</td>\n",
       "      <td>15</td>\n",
       "      <td>25</td>\n",
       "      <td>27</td>\n",
       "      <td>106</td>\n",
       "      <td>52</td>\n",
       "      <td>17</td>\n",
       "      <td>33</td>\n",
       "      <td>34</td>\n",
       "    </tr>\n",
       "    <tr>\n",
       "      <th>2</th>\n",
       "      <td>Average</td>\n",
       "      <td>11</td>\n",
       "      <td>4</td>\n",
       "      <td>70</td>\n",
       "      <td>100</td>\n",
       "      <td>47</td>\n",
       "      <td>15</td>\n",
       "      <td>28</td>\n",
       "      <td>32</td>\n",
       "      <td>100</td>\n",
       "      <td>50</td>\n",
       "      <td>17</td>\n",
       "      <td>29</td>\n",
       "      <td>33</td>\n",
       "    </tr>\n",
       "  </tbody>\n",
       "</table>\n",
       "</div>"
      ],
      "text/plain": [
       "               Team  SRS  SOS  Pace  Away Rtg  Away EFG  Away TOV  Away ORB  \\\n",
       "0          Arkansas   16    8    71       106        49        14        30   \n",
       "1  New Mexico State    7    1    68        94        45        15        25   \n",
       "2           Average   11    4    70       100        47        15        28   \n",
       "\n",
       "   Away FTR  Home Rtg  Home EFG  Home TOV  Home ORB  Home FTR  \n",
       "0        38        94        47        18        25        32  \n",
       "1        27       106        52        17        33        34  \n",
       "2        32       100        50        17        29        33  "
      ]
     },
     "execution_count": 19,
     "metadata": {},
     "output_type": "execute_result"
    }
   ],
   "source": [
    "game_summary('Arkansas','New Mexico State')"
   ]
  },
  {
   "cell_type": "markdown",
   "metadata": {},
   "source": [
    "Pregame: Lean Arksansas -6.5\n",
    "\n",
    "Away: Rebounding, Free Throws\n",
    "\n",
    "Home: Shooting, Rebounding"
   ]
  },
  {
   "cell_type": "code",
   "execution_count": 20,
   "metadata": {},
   "outputs": [
    {
     "data": {
      "text/plain": [
       "140.0"
      ]
     },
     "execution_count": 20,
     "metadata": {},
     "output_type": "execute_result"
    }
   ],
   "source": [
    "70*1.00+70*1.00"
   ]
  },
  {
   "cell_type": "code",
   "execution_count": 21,
   "metadata": {
    "scrolled": true
   },
   "outputs": [
    {
     "data": {
      "text/html": [
       "<div>\n",
       "<style scoped>\n",
       "    .dataframe tbody tr th:only-of-type {\n",
       "        vertical-align: middle;\n",
       "    }\n",
       "\n",
       "    .dataframe tbody tr th {\n",
       "        vertical-align: top;\n",
       "    }\n",
       "\n",
       "    .dataframe thead th {\n",
       "        text-align: right;\n",
       "    }\n",
       "</style>\n",
       "<table border=\"1\" class=\"dataframe\">\n",
       "  <thead>\n",
       "    <tr style=\"text-align: right;\">\n",
       "      <th></th>\n",
       "      <th>Team</th>\n",
       "      <th>SRS</th>\n",
       "      <th>SOS</th>\n",
       "      <th>Pace</th>\n",
       "      <th>Away Rtg</th>\n",
       "      <th>Away EFG</th>\n",
       "      <th>Away TOV</th>\n",
       "      <th>Away ORB</th>\n",
       "      <th>Away FTR</th>\n",
       "      <th>Home Rtg</th>\n",
       "      <th>Home EFG</th>\n",
       "      <th>Home TOV</th>\n",
       "      <th>Home ORB</th>\n",
       "      <th>Home FTR</th>\n",
       "    </tr>\n",
       "  </thead>\n",
       "  <tbody>\n",
       "    <tr>\n",
       "      <th>0</th>\n",
       "      <td>Memphis</td>\n",
       "      <td>14</td>\n",
       "      <td>7</td>\n",
       "      <td>71</td>\n",
       "      <td>105</td>\n",
       "      <td>52</td>\n",
       "      <td>19</td>\n",
       "      <td>37</td>\n",
       "      <td>38</td>\n",
       "      <td>95</td>\n",
       "      <td>46</td>\n",
       "      <td>17</td>\n",
       "      <td>31</td>\n",
       "      <td>32</td>\n",
       "    </tr>\n",
       "    <tr>\n",
       "      <th>1</th>\n",
       "      <td>Gonzaga</td>\n",
       "      <td>26</td>\n",
       "      <td>4</td>\n",
       "      <td>73</td>\n",
       "      <td>88</td>\n",
       "      <td>42</td>\n",
       "      <td>14</td>\n",
       "      <td>23</td>\n",
       "      <td>22</td>\n",
       "      <td>119</td>\n",
       "      <td>59</td>\n",
       "      <td>13</td>\n",
       "      <td>29</td>\n",
       "      <td>30</td>\n",
       "    </tr>\n",
       "    <tr>\n",
       "      <th>2</th>\n",
       "      <td>Average</td>\n",
       "      <td>20</td>\n",
       "      <td>5</td>\n",
       "      <td>72</td>\n",
       "      <td>97</td>\n",
       "      <td>47</td>\n",
       "      <td>17</td>\n",
       "      <td>30</td>\n",
       "      <td>30</td>\n",
       "      <td>107</td>\n",
       "      <td>52</td>\n",
       "      <td>15</td>\n",
       "      <td>30</td>\n",
       "      <td>31</td>\n",
       "    </tr>\n",
       "  </tbody>\n",
       "</table>\n",
       "</div>"
      ],
      "text/plain": [
       "      Team  SRS  SOS  Pace  Away Rtg  Away EFG  Away TOV  Away ORB  Away FTR  \\\n",
       "0  Memphis   14    7    71       105        52        19        37        38   \n",
       "1  Gonzaga   26    4    73        88        42        14        23        22   \n",
       "2  Average   20    5    72        97        47        17        30        30   \n",
       "\n",
       "   Home Rtg  Home EFG  Home TOV  Home ORB  Home FTR  \n",
       "0        95        46        17        31        32  \n",
       "1       119        59        13        29        30  \n",
       "2       107        52        15        30        31  "
      ]
     },
     "execution_count": 21,
     "metadata": {},
     "output_type": "execute_result"
    }
   ],
   "source": [
    "game_summary('Memphis','Gonzaga')"
   ]
  },
  {
   "cell_type": "markdown",
   "metadata": {},
   "source": [
    "Pregame: Pass at 10.5\n",
    "\n",
    "Away: Turnovers, Rebounding, Free Throws\n",
    "\n",
    "Home: Shooting"
   ]
  },
  {
   "cell_type": "code",
   "execution_count": 22,
   "metadata": {},
   "outputs": [
    {
     "data": {
      "text/plain": [
       "146.88"
      ]
     },
     "execution_count": 22,
     "metadata": {},
     "output_type": "execute_result"
    }
   ],
   "source": [
    "72*0.97+72*1.07"
   ]
  },
  {
   "cell_type": "markdown",
   "metadata": {},
   "source": [
    "Under 154"
   ]
  }
 ],
 "metadata": {
  "kernelspec": {
   "display_name": "Python 3",
   "language": "python",
   "name": "python3"
  },
  "language_info": {
   "codemirror_mode": {
    "name": "ipython",
    "version": 3
   },
   "file_extension": ".py",
   "mimetype": "text/x-python",
   "name": "python",
   "nbconvert_exporter": "python",
   "pygments_lexer": "ipython3",
   "version": "3.6.5"
  }
 },
 "nbformat": 4,
 "nbformat_minor": 2
}
